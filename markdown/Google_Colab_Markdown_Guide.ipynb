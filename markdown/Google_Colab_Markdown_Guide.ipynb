{
  "cells": [
    {
      "cell_type": "markdown",
      "metadata": {
        "id": "view-in-github",
        "colab_type": "text"
      },
      "source": [
        "<a href=\"https://colab.research.google.com/github/yajima-yasutoshi/AS2025/blob/main/markdown/Google_Colab_Markdown_Guide.ipynb\" target=\"_parent\"><img src=\"https://colab.research.google.com/assets/colab-badge.svg\" alt=\"Open In Colab\"/></a>"
      ]
    },
    {
      "cell_type": "markdown",
      "id": "aa232e73",
      "metadata": {
        "id": "aa232e73"
      },
      "source": [
        "# Google Colabで使えるMarkdown記法のガイド\n",
        "\n",
        "Google Colabで使用できるMarkdown記法について記載します。\n",
        "\n",
        "Markdownは、テキストを簡単に装飾したり、構造化するための\n",
        "**マークアップ言語**です。\n",
        "Colabでは、Markdownを使ってノートをより分かりやすく整理することができます。\n",
        "\n",
        "以下では、Google Colabでよく使われるMarkdownの記法をカテゴリ別に解説します。"
      ]
    },
    {
      "cell_type": "markdown",
      "id": "46047269",
      "metadata": {
        "id": "46047269"
      },
      "source": [
        "## 見出し\n",
        "Markdownでは `#` を使って見出しを作成します。\n",
        "\n",
        "表示例：\n",
        "\n",
        "# 見出し1\n",
        "## 見出し2\n",
        "### 見出し3\n"
      ]
    },
    {
      "cell_type": "markdown",
      "id": "1fd3442e",
      "metadata": {
        "id": "1fd3442e"
      },
      "source": [
        "## 強調（太字・斜体）\n",
        "\n",
        "表示例：\n",
        "\n",
        "*斜体* または _斜体_\n",
        "\n",
        "**太字** または __太字__"
      ]
    },
    {
      "cell_type": "markdown",
      "id": "d8655ca9",
      "metadata": {
        "id": "d8655ca9"
      },
      "source": [
        "##箇条書き\n",
        "\n",
        "\n",
        "表示例：\n",
        "- アイテム1\n",
        "- アイテム2\n",
        " - サブアイテム"
      ]
    },
    {
      "cell_type": "markdown",
      "id": "c6bf97dd",
      "metadata": {
        "id": "c6bf97dd"
      },
      "source": [
        "## 番号付きリスト\n",
        "\n",
        "表示例：\n",
        "1. 最初の項目\n",
        "2. 次の項目\n",
        "\n",
        "\n",
        "1. 最初の項目\n",
        "1. 次の項目\n",
        "\n",
        "上の例のように、数字が反映される訳ではない。\n"
      ]
    },
    {
      "cell_type": "markdown",
      "id": "5cd2fd56",
      "metadata": {
        "id": "5cd2fd56"
      },
      "source": [
        "##リンク\n",
        "\n",
        "表示例：\n",
        "[Google](https://www.google.com)"
      ]
    },
    {
      "cell_type": "markdown",
      "id": "1a207f08",
      "metadata": {
        "id": "1a207f08"
      },
      "source": [
        "##コードブロック\n",
        "\n",
        "\n",
        "インライン（文章の中に表示する場合）の表示例：\n",
        "\n",
        "これは、`print('Hello')` です。\n",
        "\n",
        "複数行で表示する場合の例：\n",
        "\n",
        "```\n",
        "print(\"Hello\")\n",
        "print(\"World\")\n",
        "```"
      ]
    },
    {
      "cell_type": "markdown",
      "id": "fc53ff84",
      "metadata": {
        "id": "fc53ff84"
      },
      "source": [
        "##水平線・引用\n",
        "\n",
        "水平線：`---`\n",
        "\n",
        "引用：`>`\n",
        "\n",
        "表示例：\n",
        "\n",
        "---\n",
        "\n",
        "> これは引用です"
      ]
    },
    {
      "cell_type": "markdown",
      "id": "c79c2eac",
      "metadata": {
        "id": "c79c2eac"
      },
      "source": [
        "##表（テーブル）\n",
        "\n",
        "Markdownでは、以下のように表を作成できます。\n",
        "\n",
        "表示例：\n",
        "\n",
        "| 見出し1 | 見出し2 | 見出し3 |\n",
        "|--------|--------|--------|\n",
        "| 内容1  | 内容2  | 内容3  |\n",
        "| 内容A  | 内容B  | 内容C  |\n"
      ]
    },
    {
      "cell_type": "markdown",
      "id": "2f154186",
      "metadata": {
        "id": "2f154186"
      },
      "source": [
        "##数式（LaTeX）\n",
        "\n",
        "Google ColabではLaTeX形式で数式を記述できます。\n",
        "インライン形式は `$` で囲み、ブロック形式は `$$` で囲みます。\n",
        "\n",
        "\n",
        "表示例：\n",
        "\n",
        "インライン形式: $E=mc^2$\n",
        "\n",
        "ブロック形式:\n",
        "\n",
        "$$\n",
        "\\int_a^b f(x) dx = F(b) - F(a)\n",
        "$$\n"
      ]
    },
    {
      "cell_type": "code",
      "source": [],
      "metadata": {
        "id": "U5kuk_sjzasP"
      },
      "id": "U5kuk_sjzasP",
      "execution_count": null,
      "outputs": []
    }
  ],
  "metadata": {
    "colab": {
      "provenance": [],
      "include_colab_link": true
    }
  },
  "nbformat": 4,
  "nbformat_minor": 5
}